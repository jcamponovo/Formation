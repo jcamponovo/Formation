{
 "cells": [
  {
   "cell_type": "markdown",
   "metadata": {},
   "source": [
    "# TP3 - Loi de Boyle-Mariotte + Hydrostatique\n",
    "\n",
    "Vous pouvez modifier chaque cellule en cliquant dessus (même les cellules texte). Cliquez sur \"Exécuter\" pour revenir à l'affichage classique ou avoir un retour des programmes pythons."
   ]
  },
  {
   "cell_type": "markdown",
   "metadata": {},
   "source": [
    "<h3>Matériel :</h3>\n",
    "<ul><li>Arduino nano</li>\n",
    "    <li>Breadboard</li>\n",
    "    <li>Fils</li>\n",
    "    <li>MPX5500DP</li>\n",
    "    <li>Ordinateur</li></ul>\n",
    "    <br>\n",
    "<h3>Logiciels :</h3>\n",
    "<ul><li>Winpython ou autre IDE python</li>\n",
    "<li>Navigateur web type Mozilla firefox</li>\n",
    "    <li>IDE Arduino</li></ul>\n",
    "    <br>"
   ]
  },
  {
   "cell_type": "code",
   "execution_count": 1,
   "metadata": {},
   "outputs": [],
   "source": [
    "# imports à exécuter une fois au début\n",
    "from math import pi\n",
    "from scipy.optimize import curve_fit\n",
    "import matplotlib.pyplot as plt"
   ]
  },
  {
   "cell_type": "code",
   "execution_count": 2,
   "metadata": {},
   "outputs": [],
   "source": [
    "%matplotlib notebook"
   ]
  },
  {
   "cell_type": "markdown",
   "metadata": {},
   "source": [
    "# Sujet\n",
    "\n",
    "<p>Nous avons ici regroupé plusieurs TPs. La première partie est une étude expérimentale de la loi de Boyle-Mariotte, la seconde une étude de la pression hydrostatique.</p>\n",
    "\n",
    "<p>Bien que cela ne soit pas obligatoire dans le cadre des nouveaux programmes de physique-chimie, nous vous proposons des TPs à base de cartes Arduino et capteur pour que vous puissiez vous rendre compte de la facilité de mise en œuvre et de la qualité des résultats obtenus pour un coût extrêmement réduit.</p>\n",
    "\n",
    "<p>Le TP peut bien sûr être adapté au matériel disponible dans vos lycées tout en conservant la partie python</p>\n",
    "\n",
    "<h2>Partie 1 - Loi de Boyle-Mariotte</h2>\n",
    "<br>\n",
    "<p>Pour étudier la courbe P = f(V) puis P = f(1/V),  nous allons utiliser une carte Arduino et un capteur sensible à la pression le MPX5500DP branché à une seringue graduée permettant de connaître le volume. La seringue est reliée au capteur par un tube en plastique souple.</p>\n",
    "\n",
    "<p>Réalisez le montage proposé sur <b>la figure 1.</b>  sans relier la carte Arduino à l’ordinateur pour l'instant. Vous pouvez repérer le pin de données du composant grâce à l'encoche présente. </p>\n",
    "<br>\n",
    "<p><center><b>Figure 1. Montage à réaliser</b>\n",
    "<img src=\"./TP3_figure1.png\"></center></p>"
   ]
  },
  {
   "cell_type": "markdown",
   "metadata": {},
   "source": [
    "Mesurer la <b>longueur h</b> du tube en plastique et son <b>diamètre intérieur d</b> en mm et inscrivez les dans la cellule python suivante (puis exécutez là). "
   ]
  },
  {
   "cell_type": "code",
   "execution_count": 3,
   "metadata": {},
   "outputs": [],
   "source": [
    "h = 0.\n",
    "d = 0."
   ]
  },
  {
   "cell_type": "markdown",
   "metadata": {},
   "source": [
    "Le programme <b style=\"color:red;\">python</b> suivant permet de calculer le volume du tube en $m^3$ et de le stocker dans la variable Vtubem3."
   ]
  },
  {
   "cell_type": "code",
   "execution_count": 4,
   "metadata": {},
   "outputs": [
    {
     "name": "stdout",
     "output_type": "stream",
     "text": [
      "Le volume du tube est de 0.00E+00 m³\n"
     ]
    }
   ],
   "source": [
    "#Conversions en m\n",
    "h = h / 1000.\n",
    "d = d / 1000.\n",
    "\n",
    "R = d / 2.\n",
    "Vtubem3 = pi * R**2 * h\n",
    "print(\"Le volume du tube est de {:.2E} m\\u00B3\".format(Vtubem3))"
   ]
  },
  {
   "cell_type": "markdown",
   "metadata": {},
   "source": [
    "<p>Le capteur de pression utilisé est analogique, c'est à dire qu'il renvoie une tension liée à la valeur de la pression (ici par une loi affine). Il suffit donc de la mesurer avec une entrée analogique de la carte arduino </p>\n",
    "\n",
    "U est mesuré par le convertisseur analogique numérique de la carte Arduino qui numérise une tension entre 0 et 5V sur 10 bits. Ainsi, elle nous renvoie une valeur entière entre 0 et 2<sup>10</sup> - 1; 0 pour une tension de 0V et 1023 pour une tension de 5V.\n",
    "Ainsi, lorsque <b>la carte Arduino renvoie 534</b> il s'agit de la mesure d'une tension $U\\ =\\ \\frac{534.\\ \\times\\ 5.}{1023.}\\ =\\ 2.61\\ V$</p>\n",
    "</br>\n",
    "<p>Si on note <b>n</b> la valeur entière renvoyée par la carte Arduino, on peut exprimer la valeur de la tension $\\boldsymbol{U\\ =\\ n\\ \\times\\ 0.00489}$. </p>\n",
    "<b>C'est valable pour toute mesure analogique (ports A0 à A7)</b>"
   ]
  },
  {
   "cell_type": "markdown",
   "metadata": {},
   "source": [
    "Téléchargez le programme arduino <a href=\"./pression.ino\" target=\"_blank\">pression.ino</a> fourni puis modifiez le pour qu’il renvoie la valeur de la tension U (en V) donnée par le capteur. </p>"
   ]
  },
  {
   "cell_type": "markdown",
   "metadata": {},
   "source": [
    "<a href=\"./pression_cor.ino\" target=\"_blank\">correction</a>"
   ]
  },
  {
   "cell_type": "markdown",
   "metadata": {},
   "source": [
    "Téléversez le programme obtenu dans votre carte Arduino (attention de bien régler <b style=\"color:red;\">le type de carte, le port et le processeur</b>). Mesurez alors la tension <b>U<sub>0</sub></b> correspondant à la pression atmosphérique en utilisant le moniteur série du logiciel Arduino. Stockez cette valeur dans une variable U0 <b style=\"color:red\">sur python</b></p>"
   ]
  },
  {
   "cell_type": "code",
   "execution_count": 5,
   "metadata": {},
   "outputs": [],
   "source": [
    "U0 = 0."
   ]
  },
  {
   "cell_type": "markdown",
   "metadata": {},
   "source": [
    "Téléchargez le programme <a href=\"./pression2.ino\" target=\"_blank\">pression2.ino</a> fourni et ouvrez le dans l'IDE arduino.<p> Qu’apporte ce programme par rapport au précédent ?</p>"
   ]
  },
  {
   "cell_type": "markdown",
   "metadata": {},
   "source": [
    "<p><b>Ajustez la valeur de A0</b> dans le programme pression2.ino puis <b>téléversez</b> le dans votre carte Arduino (attention de bien régler <b style=\"color:red;\">le type de carte, le port et le processeur)</b>.</p>\n",
    "Utilisez maintenant la seringue (et le tube) pour faire varier volume et pression. A l’aide du moniteur série, mesurez la tension renvoyée par la carte Arduino pour différents volumes. <b>Réalisez 5 mesures de couples tension (en V) – volume (en mL)</b> pour des volumes différents et stockez les dans des listes <b style=\"color:red;\">sur python</b>.</p>"
   ]
  },
  {
   "cell_type": "code",
   "execution_count": 6,
   "metadata": {},
   "outputs": [],
   "source": [
    "#Entrez vos valeur sici sous forme de listes python\n",
    "#Puis Exécutez la cellule pour les mettre en mémoire\n",
    "\n",
    "U = []\n",
    "VmL = []"
   ]
  },
  {
   "cell_type": "markdown",
   "metadata": {},
   "source": [
    "Le programme <b style=\"color:red;\">python</b> suivant calcule les listes P et V correspondant à la pression totale en Pa et au volume total (seringue + tube) en m³ à partir des listes U et V entrées et de la vameur de $U_0$."
   ]
  },
  {
   "cell_type": "code",
   "execution_count": null,
   "metadata": {},
   "outputs": [],
   "source": [
    "#Construction des listes P et V. On peut aussi utiliser des boucles\n",
    "P = [101325 + 500000*(val - U0)/4.5 for val in U]\n",
    "V = [(val) / 1e6 + Vtubem3 for val in Vml]"
   ]
  },
  {
   "cell_type": "markdown",
   "metadata": {},
   "source": [
    "Voici ci-dessous <b style=\"color:red;\">un programme python</b> permettant de tracer le graphique représentant <b>P en fonction de V</b> pour vos mesures. Vous prendrez soin de mettre un titre, et des informations sur les deux axes."
   ]
  },
  {
   "cell_type": "code",
   "execution_count": null,
   "metadata": {},
   "outputs": [],
   "source": [
    "plt.figure(\"Question 9°)\")\n",
    "plt.plot(V,P,\"+\")\n",
    "plt.xlabel(\"Volume (m3)\")\n",
    "plt.ylabel(\"Pression(Pa)\")\n",
    "plt.title(\"Pression en fonction du Volume\")\n",
    "plt.xticks([0.000020,0.000030,0.000040,0.000050,0.000060])\n",
    "plt.show()"
   ]
  },
  {
   "cell_type": "markdown",
   "metadata": {},
   "source": [
    "Les points expérimentaux vous pariassent-ils suivre une loi simple ?"
   ]
  },
  {
   "cell_type": "markdown",
   "metadata": {},
   "source": [
    "Voici un programme <b style=\"color:red;\">python</b> qui construit la liste unsurV correspondant aux valeurs de 1/V avec V en m<sup>3</sup>."
   ]
  },
  {
   "cell_type": "code",
   "execution_count": null,
   "metadata": {},
   "outputs": [],
   "source": [
    "unsurV = []\n",
    "for val in V:\n",
    "    unsurV.append(1/val)"
   ]
  },
  {
   "cell_type": "markdown",
   "metadata": {},
   "source": [
    "Et <b style=\"color:red;\">le programme python</b> permettant de tracer le graphique représentant <b>P en fonction de unsurV</b> pour vos mesures. "
   ]
  },
  {
   "cell_type": "code",
   "execution_count": null,
   "metadata": {},
   "outputs": [],
   "source": [
    "plt.figure(\"Question 12°)\")\n",
    "plt.plot(unsurV,P,\"+\",label=\"Points expérimentaux\")\n",
    "plt.xlabel(\"1 / V (m\\u207B\\u00B3)\")\n",
    "plt.ylabel(\"Pression (Pa)\")\n",
    "plt.title(\"Pression en fonction de 1/V\")\n",
    "plt.show()"
   ]
  },
  {
   "cell_type": "markdown",
   "metadata": {},
   "source": [
    "Voici le<b style=\"color:red;\">programme python</b> permettant de modéliser cette série de données par une fonction adaptée et d'afficher <b>sur un même graphique les points expérimentaux, le modèle et son équation.</b> "
   ]
  },
  {
   "cell_type": "code",
   "execution_count": null,
   "metadata": {},
   "outputs": [],
   "source": [
    "def lineaire(x,a):\n",
    "    return a*x\n",
    "    \n",
    "params,covariance = curve_fit(lineaire,unsurV,P)\n",
    "\n",
    "modele=[]\n",
    "x=[0]+unsurV\n",
    "for i in x:\n",
    "    modele.append(lineaire(i,*params))\n",
    "\n",
    "plt.figure(\"Question 14°)\")\n",
    "plt.plot(x,modele,label=\"Modele: P = {:.2f} / V\".format(*params))\n",
    "plt.plot(unsurV,P,\"+\",label=\"Points expérimentaux\")\n",
    "#plt.xlabel(\"1 / V (m\\u207B\\u00B3)\") # On utilise le code des caractères - et 3 en exposant\n",
    "plt.xlabel(\"1 / V $(m^{-3})$\") # Ou on utilise de la syntaxe Latex entre $\n",
    "plt.ylabel(\"Pression (Pa)\")\n",
    "plt.title(\"Pression en fonction de 1/V\")\n",
    "plt.legend()\n",
    "plt.show()"
   ]
  },
  {
   "cell_type": "markdown",
   "metadata": {},
   "source": [
    "<h2>Partie 2 - Pression Hydrostatique</h2>\n",
    "<p>Remplir une éprouvette graduée d’eau. Retirez la seringue et installer un long tube en plastique souple à la place.</p>\n",
    "En utilisant le moniteur série du logiciel Arduino, mesurez la pression à différentes profondeurs sous la surface de l’eau. <b style=\"color:red;\">Attention !</b> La profondeur doit se mesurer entre la surface libre de l’eau et la surface de l’eau dans le tube en plastique (pas au bout du tube).</p>\n",
    " <b>Réalisez 5 mesures de couples pression (en Pa) – profondeur (en m)</b> pour des profondeurs différentes et stockez les dans les listes suivantes <b style=\"color:red;\">sur python</b>."
   ]
  },
  {
   "cell_type": "code",
   "execution_count": null,
   "metadata": {},
   "outputs": [],
   "source": [
    "P2 = [] #en Pa\n",
    "h = [] #en m"
   ]
  },
  {
   "cell_type": "markdown",
   "metadata": {},
   "source": [
    "Voici le <b style=\"color:red;\">programme python</b> permettant de tracer le graphique représentant <b>P en fonction de la profondeur h</b> pour vos mesures."
   ]
  },
  {
   "cell_type": "code",
   "execution_count": null,
   "metadata": {},
   "outputs": [],
   "source": [
    "plt.figure(\"Question 16°)\")\n",
    "plt.plot(h,P2,\"+\",label=\"Points expérimentaux\")\n",
    "plt.xlabel(\"Profondeur h (m)\")\n",
    "plt.ylabel(\"Pression P (Pa)\")\n",
    "plt.title(\"Pression en fonction de la profondeur dans l'eau\")\n",
    "plt.show()"
   ]
  },
  {
   "cell_type": "markdown",
   "metadata": {},
   "source": [
    "Voici le <b style=\"color:red;\">programme python</b> permettant de modéliser cette série de données par la fonction précédente et d'afficher <b>sur un même graphique les points expérimentaux, le modèle et son équation.</b> "
   ]
  },
  {
   "cell_type": "code",
   "execution_count": null,
   "metadata": {},
   "outputs": [],
   "source": [
    "def affine(x,a,b):\n",
    "    return a*x+b\n",
    "\n",
    "plt.figure(\"Question 18°)\")\n",
    "plt.plot(h,P2,\"+\",label=\"Points expérimentaux\")\n",
    "\n",
    "params,cov=curve_fit(affine,h,P2)\n",
    "modele=[]\n",
    "for i in h:\n",
    "    modele.append(affine(i,*params))\n",
    "plt.plot(h,modele,label=\"modele: P = {:.0f} h + {:.0f}\".format(*params))\n",
    "plt.xlabel(\"Profondeur h (m)\")\n",
    "plt.ylabel(\"Pression P (Pa)\")\n",
    "plt.title(\"Pression en fonction de la profondeur dans l'eau\")\n",
    "plt.legend()\n",
    "plt.show()"
   ]
  }
 ],
 "metadata": {
  "celltoolbar": "Format de la Cellule Texte Brut",
  "kernelspec": {
   "display_name": "Python 3",
   "language": "python",
   "name": "python3"
  },
  "language_info": {
   "codemirror_mode": {
    "name": "ipython",
    "version": 3
   },
   "file_extension": ".py",
   "mimetype": "text/x-python",
   "name": "python",
   "nbconvert_exporter": "python",
   "pygments_lexer": "ipython3",
   "version": "3.7.3"
  }
 },
 "nbformat": 4,
 "nbformat_minor": 2
}
